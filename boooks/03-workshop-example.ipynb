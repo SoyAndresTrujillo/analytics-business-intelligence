{
 "cells": [
  {
   "cell_type": "code",
   "execution_count": 1,
   "id": "b771446b",
   "metadata": {},
   "outputs": [],
   "source": [
    "import pandas as pd\n",
    "import numpy as np\n",
    "import seaborn as sns\n",
    "import matplotlib.pyplot as plt\n",
    "from sklearn.preprocessing import LabelEncoder, OrdinalEncoder \n"
   ]
  },
  {
   "cell_type": "code",
   "execution_count": 2,
   "id": "3427c5fe",
   "metadata": {},
   "outputs": [
    {
     "name": "stdout",
     "output_type": "stream",
     "text": [
      "<class 'pandas.core.frame.DataFrame'>\n",
      "RangeIndex: 2302 entries, 0 to 2301\n",
      "Data columns (total 81 columns):\n",
      " #   Column         Non-Null Count  Dtype  \n",
      "---  ------         --------------  -----  \n",
      " 0   Id             2302 non-null   int64  \n",
      " 1   MSSubClass     2302 non-null   int64  \n",
      " 2   MSZoning       2298 non-null   object \n",
      " 3   LotFrontage    1915 non-null   float64\n",
      " 4   LotArea        2302 non-null   int64  \n",
      " 5   Street         2302 non-null   object \n",
      " 6   Alley          148 non-null    object \n",
      " 7   LotShape       2302 non-null   object \n",
      " 8   LandContour    2302 non-null   object \n",
      " 9   Utilities      2301 non-null   object \n",
      " 10  LotConfig      2302 non-null   object \n",
      " 11  LandSlope      2302 non-null   object \n",
      " 12  Neighborhood   2302 non-null   object \n",
      " 13  Condition1     2302 non-null   object \n",
      " 14  Condition2     2302 non-null   object \n",
      " 15  BldgType       2302 non-null   object \n",
      " 16  HouseStyle     2302 non-null   object \n",
      " 17  OverallQual    2302 non-null   int64  \n",
      " 18  OverallCond    2302 non-null   int64  \n",
      " 19  YearBuilt      2302 non-null   int64  \n",
      " 20  YearRemodAdd   2302 non-null   int64  \n",
      " 21  RoofStyle      2302 non-null   object \n",
      " 22  RoofMatl       2302 non-null   object \n",
      " 23  Exterior1st    2301 non-null   object \n",
      " 24  Exterior2nd    2301 non-null   object \n",
      " 25  MasVnrType     913 non-null    object \n",
      " 26  MasVnrArea     2282 non-null   float64\n",
      " 27  ExterQual      2302 non-null   object \n",
      " 28  ExterCond      2302 non-null   object \n",
      " 29  Foundation     2302 non-null   object \n",
      " 30  BsmtQual       2243 non-null   object \n",
      " 31  BsmtCond       2242 non-null   object \n",
      " 32  BsmtExposure   2243 non-null   object \n",
      " 33  BsmtFinType1   2245 non-null   object \n",
      " 34  BsmtFinSF1     2302 non-null   int64  \n",
      " 35  BsmtFinType2   2244 non-null   object \n",
      " 36  BsmtFinSF2     2302 non-null   int64  \n",
      " 37  BsmtUnfSF      2302 non-null   int64  \n",
      " 38  TotalBsmtSF    2302 non-null   int64  \n",
      " 39  Heating        2302 non-null   object \n",
      " 40  HeatingQC      2302 non-null   object \n",
      " 41  CentralAir     2302 non-null   object \n",
      " 42  Electrical     2301 non-null   object \n",
      " 43  1stFlrSF       2302 non-null   int64  \n",
      " 44  2ndFlrSF       2302 non-null   int64  \n",
      " 45  LowQualFinSF   2302 non-null   int64  \n",
      " 46  GrLivArea      2302 non-null   int64  \n",
      " 47  BsmtFullBath   2301 non-null   float64\n",
      " 48  BsmtHalfBath   2301 non-null   float64\n",
      " 49  FullBath       2302 non-null   int64  \n",
      " 50  HalfBath       2302 non-null   int64  \n",
      " 51  BedroomAbvGr   2302 non-null   int64  \n",
      " 52  KitchenAbvGr   2302 non-null   int64  \n",
      " 53  KitchenQual    2301 non-null   object \n",
      " 54  TotRmsAbvGrd   2302 non-null   int64  \n",
      " 55  Functional     2300 non-null   object \n",
      " 56  Fireplaces     2302 non-null   int64  \n",
      " 57  FireplaceQu    1182 non-null   object \n",
      " 58  GarageType     2178 non-null   object \n",
      " 59  GarageYrBlt    2176 non-null   float64\n",
      " 60  GarageFinish   2176 non-null   object \n",
      " 61  GarageCars     2301 non-null   float64\n",
      " 62  GarageArea     2301 non-null   float64\n",
      " 63  GarageQual     2176 non-null   object \n",
      " 64  GarageCond     2176 non-null   object \n",
      " 65  PavedDrive     2302 non-null   object \n",
      " 66  WoodDeckSF     2302 non-null   int64  \n",
      " 67  OpenPorchSF    2302 non-null   int64  \n",
      " 68  EnclosedPorch  2302 non-null   int64  \n",
      " 69  3SsnPorch      2302 non-null   int64  \n",
      " 70  ScreenPorch    2302 non-null   int64  \n",
      " 71  PoolArea       2302 non-null   int64  \n",
      " 72  PoolQC         7 non-null      object \n",
      " 73  Fence          458 non-null    object \n",
      " 74  MiscFeature    86 non-null     object \n",
      " 75  MiscVal        2302 non-null   int64  \n",
      " 76  MoSold         2302 non-null   int64  \n",
      " 77  YrSold         2302 non-null   int64  \n",
      " 78  SaleType       2301 non-null   object \n",
      " 79  SaleCondition  2302 non-null   object \n",
      " 80  SalePrice      2302 non-null   float64\n",
      "dtypes: float64(8), int64(30), object(43)\n",
      "memory usage: 1.4+ MB\n"
     ]
    }
   ],
   "source": [
    "data = pd.read_csv(\"../data/no_processed/train_cat.csv\")\n",
    "data.head()\n",
    "data.info()\n"
   ]
  },
  {
   "cell_type": "markdown",
   "id": "462c6edf",
   "metadata": {},
   "source": [
    "# Categories\n",
    "\n",
    "1. Ordinal\n",
    "   1. When the variable is relevant to the target variable\n",
    "2. Nominal\n",
    "   1. When the variable is not relevant to the target variable"
   ]
  },
  {
   "cell_type": "code",
   "execution_count": 3,
   "id": "e58937c2",
   "metadata": {},
   "outputs": [
    {
     "data": {
      "text/plain": [
       "ExterQual\n",
       "TA    1437\n",
       "Gd     757\n",
       "Ex      85\n",
       "Fa      23\n",
       "Name: count, dtype: int64"
      ]
     },
     "execution_count": 3,
     "metadata": {},
     "output_type": "execute_result"
    }
   ],
   "source": [
    "# ExterQual column\n",
    "data.ExterQual.value_counts()\n",
    "# 1. Fa\n",
    "# 2. TA \n",
    "# 3. Gd\n",
    "# 4. Ex\n"
   ]
  },
  {
   "cell_type": "code",
   "execution_count": 4,
   "id": "858e238e",
   "metadata": {},
   "outputs": [
    {
     "data": {
      "text/plain": [
       "ExterCond\n",
       "TA    2029\n",
       "Gd     218\n",
       "Fa      42\n",
       "Ex      10\n",
       "Po       3\n",
       "Name: count, dtype: int64"
      ]
     },
     "execution_count": 4,
     "metadata": {},
     "output_type": "execute_result"
    }
   ],
   "source": [
    "# ExterCond column\n",
    "data.ExterCond.value_counts()"
   ]
  },
  {
   "cell_type": "code",
   "execution_count": 5,
   "id": "d6a5f9da",
   "metadata": {},
   "outputs": [
    {
     "data": {
      "text/plain": [
       "SaleCondition\n",
       "Normal     1899\n",
       "Partial     196\n",
       "Abnorml     142\n",
       "Family       37\n",
       "Alloca       18\n",
       "AdjLand      10\n",
       "Name: count, dtype: int64"
      ]
     },
     "execution_count": 5,
     "metadata": {},
     "output_type": "execute_result"
    }
   ],
   "source": [
    "# SaleCondition column\n",
    "\n",
    "data.SaleCondition.value_counts()"
   ]
  },
  {
   "cell_type": "code",
   "execution_count": 6,
   "id": "c748edc7",
   "metadata": {},
   "outputs": [
    {
     "data": {
      "text/plain": [
       "MSSubClass\n",
       "20     865\n",
       "60     443\n",
       "50     223\n",
       "120    144\n",
       "30     112\n",
       "70     103\n",
       "160    102\n",
       "80      95\n",
       "90      85\n",
       "190     44\n",
       "85      32\n",
       "75      19\n",
       "45      15\n",
       "180     14\n",
       "40       5\n",
       "150      1\n",
       "Name: count, dtype: int64"
      ]
     },
     "execution_count": 6,
     "metadata": {},
     "output_type": "execute_result"
    }
   ],
   "source": [
    "# MSSubClass column, this columns is nominal because the values of the columns is integers, and be care to not identify as\n",
    "# ordinal\n",
    "\n",
    "data.MSSubClass.value_counts()"
   ]
  },
  {
   "cell_type": "code",
   "execution_count": 7,
   "id": "2a1835f2",
   "metadata": {},
   "outputs": [],
   "source": [
    "cat_ord = ['ExterQual', 'ExterCond']\n",
    "cat_nom = ['SaleCondition', 'MSSubClass']\n",
    "\n",
    "data_test = data.copy()"
   ]
  },
  {
   "cell_type": "code",
   "execution_count": 8,
   "id": "9e52f128",
   "metadata": {},
   "outputs": [
    {
     "data": {
      "text/plain": [
       "SaleCondition\n",
       "4    1899\n",
       "5     196\n",
       "0     142\n",
       "3      37\n",
       "2      18\n",
       "1      10\n",
       "Name: count, dtype: int64"
      ]
     },
     "execution_count": 8,
     "metadata": {},
     "output_type": "execute_result"
    }
   ],
   "source": [
    "label_enc = LabelEncoder()\n",
    "data_test['SaleCondition'] = label_enc.fit_transform(data['SaleCondition'])\n",
    "data_test.SaleCondition.value_counts()"
   ]
  },
  {
   "cell_type": "code",
   "execution_count": 9,
   "id": "14ff5180",
   "metadata": {},
   "outputs": [
    {
     "data": {
      "text/plain": [
       "ExterCond\n",
       "4.0    2029\n",
       "2.0     218\n",
       "1.0      42\n",
       "0.0      10\n",
       "3.0       3\n",
       "Name: count, dtype: int64"
      ]
     },
     "execution_count": 9,
     "metadata": {},
     "output_type": "execute_result"
    }
   ],
   "source": [
    "ord_enc = OrdinalEncoder() # Any variable, but should be ordinal variable\n",
    "data_test[cat_ord] = ord_enc.fit_transform(data_test[cat_ord])\n",
    "data_test.ExterQual.value_counts(),\n",
    "data_test.ExterCond.value_counts()"
   ]
  },
  {
   "cell_type": "code",
   "execution_count": 10,
   "id": "f9edf97e",
   "metadata": {},
   "outputs": [
    {
     "data": {
      "text/plain": [
       "ExterQual\n",
       "2    1437\n",
       "3     757\n",
       "4      85\n",
       "1      23\n",
       "Name: count, dtype: int64"
      ]
     },
     "execution_count": 10,
     "metadata": {},
     "output_type": "execute_result"
    }
   ],
   "source": [
    "ord_enc_man = {\n",
    "  'Ex': 4,\n",
    "  'Gd': 3,\n",
    "  'TA': 2,\n",
    "  'Fa': 1,\n",
    "}\n",
    "\n",
    "data_test = data.copy()\n",
    "data_test['ExterQual'] = data_test['ExterQual'].map(ord_enc_man)\n",
    "data_test.ExterQual.value_counts()"
   ]
  },
  {
   "cell_type": "code",
   "execution_count": 11,
   "id": "86be2f65",
   "metadata": {},
   "outputs": [
    {
     "name": "stdout",
     "output_type": "stream",
     "text": [
      "      MSSubClass  SaleCondition_Abnorml  SaleCondition_AdjLand  \\\n",
      "0             20                      0                      0   \n",
      "1             90                      0                      0   \n",
      "2             80                      0                      0   \n",
      "3             20                      0                      0   \n",
      "4             30                      1                      0   \n",
      "...          ...                    ...                    ...   \n",
      "2297          20                      0                      0   \n",
      "2298          60                      0                      0   \n",
      "2299          30                      0                      0   \n",
      "2300          80                      0                      0   \n",
      "2301          80                      0                      0   \n",
      "\n",
      "      SaleCondition_Alloca  SaleCondition_Family  SaleCondition_Normal  \\\n",
      "0                        0                     0                     1   \n",
      "1                        0                     0                     1   \n",
      "2                        0                     0                     1   \n",
      "3                        0                     0                     1   \n",
      "4                        0                     0                     0   \n",
      "...                    ...                   ...                   ...   \n",
      "2297                     0                     0                     1   \n",
      "2298                     0                     0                     1   \n",
      "2299                     0                     0                     1   \n",
      "2300                     0                     0                     1   \n",
      "2301                     0                     1                     0   \n",
      "\n",
      "      SaleCondition_Partial  \n",
      "0                         0  \n",
      "1                         0  \n",
      "2                         0  \n",
      "3                         0  \n",
      "4                         0  \n",
      "...                     ...  \n",
      "2297                      0  \n",
      "2298                      0  \n",
      "2299                      0  \n",
      "2300                      0  \n",
      "2301                      0  \n",
      "\n",
      "[2302 rows x 7 columns]\n"
     ]
    },
    {
     "data": {
      "text/html": [
       "<div>\n",
       "<style scoped>\n",
       "    .dataframe tbody tr th:only-of-type {\n",
       "        vertical-align: middle;\n",
       "    }\n",
       "\n",
       "    .dataframe tbody tr th {\n",
       "        vertical-align: top;\n",
       "    }\n",
       "\n",
       "    .dataframe thead th {\n",
       "        text-align: right;\n",
       "    }\n",
       "</style>\n",
       "<table border=\"1\" class=\"dataframe\">\n",
       "  <thead>\n",
       "    <tr style=\"text-align: right;\">\n",
       "      <th></th>\n",
       "      <th>Id</th>\n",
       "      <th>MSZoning</th>\n",
       "      <th>LotFrontage</th>\n",
       "      <th>LotArea</th>\n",
       "      <th>Street</th>\n",
       "      <th>Alley</th>\n",
       "      <th>LotShape</th>\n",
       "      <th>LandContour</th>\n",
       "      <th>Utilities</th>\n",
       "      <th>LotConfig</th>\n",
       "      <th>...</th>\n",
       "      <th>YrSold</th>\n",
       "      <th>SaleType</th>\n",
       "      <th>SalePrice</th>\n",
       "      <th>MSSubClass</th>\n",
       "      <th>SaleCondition_Abnorml</th>\n",
       "      <th>SaleCondition_AdjLand</th>\n",
       "      <th>SaleCondition_Alloca</th>\n",
       "      <th>SaleCondition_Family</th>\n",
       "      <th>SaleCondition_Normal</th>\n",
       "      <th>SaleCondition_Partial</th>\n",
       "    </tr>\n",
       "  </thead>\n",
       "  <tbody>\n",
       "    <tr>\n",
       "      <th>0</th>\n",
       "      <td>1</td>\n",
       "      <td>RL</td>\n",
       "      <td>64.0</td>\n",
       "      <td>10475</td>\n",
       "      <td>Pave</td>\n",
       "      <td>NaN</td>\n",
       "      <td>IR1</td>\n",
       "      <td>Lvl</td>\n",
       "      <td>AllPub</td>\n",
       "      <td>Corner</td>\n",
       "      <td>...</td>\n",
       "      <td>2010</td>\n",
       "      <td>WD</td>\n",
       "      <td>245350.0</td>\n",
       "      <td>20</td>\n",
       "      <td>0</td>\n",
       "      <td>0</td>\n",
       "      <td>0</td>\n",
       "      <td>0</td>\n",
       "      <td>1</td>\n",
       "      <td>0</td>\n",
       "    </tr>\n",
       "    <tr>\n",
       "      <th>1</th>\n",
       "      <td>2</td>\n",
       "      <td>RL</td>\n",
       "      <td>NaN</td>\n",
       "      <td>18890</td>\n",
       "      <td>Pave</td>\n",
       "      <td>NaN</td>\n",
       "      <td>IR1</td>\n",
       "      <td>Lvl</td>\n",
       "      <td>AllPub</td>\n",
       "      <td>Inside</td>\n",
       "      <td>...</td>\n",
       "      <td>2007</td>\n",
       "      <td>WD</td>\n",
       "      <td>190000.0</td>\n",
       "      <td>90</td>\n",
       "      <td>0</td>\n",
       "      <td>0</td>\n",
       "      <td>0</td>\n",
       "      <td>0</td>\n",
       "      <td>1</td>\n",
       "      <td>0</td>\n",
       "    </tr>\n",
       "    <tr>\n",
       "      <th>2</th>\n",
       "      <td>3</td>\n",
       "      <td>RL</td>\n",
       "      <td>NaN</td>\n",
       "      <td>21453</td>\n",
       "      <td>Pave</td>\n",
       "      <td>NaN</td>\n",
       "      <td>IR1</td>\n",
       "      <td>Low</td>\n",
       "      <td>AllPub</td>\n",
       "      <td>CulDSac</td>\n",
       "      <td>...</td>\n",
       "      <td>2006</td>\n",
       "      <td>WD</td>\n",
       "      <td>180000.0</td>\n",
       "      <td>80</td>\n",
       "      <td>0</td>\n",
       "      <td>0</td>\n",
       "      <td>0</td>\n",
       "      <td>0</td>\n",
       "      <td>1</td>\n",
       "      <td>0</td>\n",
       "    </tr>\n",
       "    <tr>\n",
       "      <th>3</th>\n",
       "      <td>4</td>\n",
       "      <td>RL</td>\n",
       "      <td>60.0</td>\n",
       "      <td>9600</td>\n",
       "      <td>Pave</td>\n",
       "      <td>NaN</td>\n",
       "      <td>Reg</td>\n",
       "      <td>Lvl</td>\n",
       "      <td>AllPub</td>\n",
       "      <td>Inside</td>\n",
       "      <td>...</td>\n",
       "      <td>2010</td>\n",
       "      <td>WD</td>\n",
       "      <td>128000.0</td>\n",
       "      <td>20</td>\n",
       "      <td>0</td>\n",
       "      <td>0</td>\n",
       "      <td>0</td>\n",
       "      <td>0</td>\n",
       "      <td>1</td>\n",
       "      <td>0</td>\n",
       "    </tr>\n",
       "    <tr>\n",
       "      <th>4</th>\n",
       "      <td>5</td>\n",
       "      <td>RM</td>\n",
       "      <td>60.0</td>\n",
       "      <td>8967</td>\n",
       "      <td>Pave</td>\n",
       "      <td>NaN</td>\n",
       "      <td>Reg</td>\n",
       "      <td>Lvl</td>\n",
       "      <td>AllPub</td>\n",
       "      <td>Corner</td>\n",
       "      <td>...</td>\n",
       "      <td>2007</td>\n",
       "      <td>WD</td>\n",
       "      <td>67000.0</td>\n",
       "      <td>30</td>\n",
       "      <td>1</td>\n",
       "      <td>0</td>\n",
       "      <td>0</td>\n",
       "      <td>0</td>\n",
       "      <td>0</td>\n",
       "      <td>0</td>\n",
       "    </tr>\n",
       "  </tbody>\n",
       "</table>\n",
       "<p>5 rows × 86 columns</p>\n",
       "</div>"
      ],
      "text/plain": [
       "   Id MSZoning  LotFrontage  LotArea Street Alley LotShape LandContour  \\\n",
       "0   1       RL         64.0    10475   Pave   NaN      IR1         Lvl   \n",
       "1   2       RL          NaN    18890   Pave   NaN      IR1         Lvl   \n",
       "2   3       RL          NaN    21453   Pave   NaN      IR1         Low   \n",
       "3   4       RL         60.0     9600   Pave   NaN      Reg         Lvl   \n",
       "4   5       RM         60.0     8967   Pave   NaN      Reg         Lvl   \n",
       "\n",
       "  Utilities LotConfig  ... YrSold SaleType SalePrice MSSubClass  \\\n",
       "0    AllPub    Corner  ...   2010       WD  245350.0         20   \n",
       "1    AllPub    Inside  ...   2007       WD  190000.0         90   \n",
       "2    AllPub   CulDSac  ...   2006       WD  180000.0         80   \n",
       "3    AllPub    Inside  ...   2010       WD  128000.0         20   \n",
       "4    AllPub    Corner  ...   2007       WD   67000.0         30   \n",
       "\n",
       "  SaleCondition_Abnorml SaleCondition_AdjLand  SaleCondition_Alloca  \\\n",
       "0                     0                     0                     0   \n",
       "1                     0                     0                     0   \n",
       "2                     0                     0                     0   \n",
       "3                     0                     0                     0   \n",
       "4                     1                     0                     0   \n",
       "\n",
       "   SaleCondition_Family  SaleCondition_Normal  SaleCondition_Partial  \n",
       "0                     0                     1                      0  \n",
       "1                     0                     1                      0  \n",
       "2                     0                     1                      0  \n",
       "3                     0                     1                      0  \n",
       "4                     0                     0                      0  \n",
       "\n",
       "[5 rows x 86 columns]"
      ]
     },
     "execution_count": 11,
     "metadata": {},
     "output_type": "execute_result"
    }
   ],
   "source": [
    "# Hot encoder\n",
    "data_test = data.copy()\n",
    "res_dummies = pd.get_dummies(data_test[cat_nom]).astype(int)\n",
    "print(res_dummies)\n",
    "data_test = pd.concat([data_test.drop(cat_nom, axis = 1), res_dummies], axis = 1)\n",
    "data_test.head()"
   ]
  },
  {
   "cell_type": "code",
   "execution_count": 12,
   "id": "04ad138f",
   "metadata": {},
   "outputs": [
    {
     "data": {
      "text/plain": [
       "MSSubClass\n",
       "174784.28070    865\n",
       "228500.00000    443\n",
       "141044.70850    223\n",
       "209874.01885    144\n",
       "109950.00000    112\n",
       "161000.00000    103\n",
       "148500.00000    102\n",
       "172230.98870     95\n",
       "144000.00000     85\n",
       "140244.94645     44\n",
       "161850.25525     32\n",
       "179500.00000     19\n",
       "131468.31290     15\n",
       "98033.06465      14\n",
       "133000.00000      5\n",
       "166769.62900      1\n",
       "Name: count, dtype: int64"
      ]
     },
     "execution_count": 12,
     "metadata": {},
     "output_type": "execute_result"
    }
   ],
   "source": [
    "dic_msubclass = data_test.groupby('MSSubClass').agg({\n",
    "  'SalePrice': 'median'\n",
    "}).to_dict()['SalePrice']\n",
    "\n",
    "data_test['MSSubClass'] = data_test['MSSubClass'].map(dic_msubclass)\n",
    "data_test['MSSubClass'].value_counts()"
   ]
  },
  {
   "cell_type": "markdown",
   "id": "75d27f60",
   "metadata": {},
   "source": [
    "# Median (Average)\n",
    "# example: [1, 2, 3, 4, 5] -> 3\n",
    "# example: [1, 2, 3, 4, 5, 6] -> (3 + 4) / 2 = 3.5\n",
    "\n",
    "# Mean\n",
    "# example: [1, 2, 3, 4, 5] -> (1 + 2 + 3 + 4 + 5) / 5 = 3\n"
   ]
  }
 ],
 "metadata": {
  "kernelspec": {
   "display_name": "venv",
   "language": "python",
   "name": "python3"
  },
  "language_info": {
   "codemirror_mode": {
    "name": "ipython",
    "version": 3
   },
   "file_extension": ".py",
   "mimetype": "text/x-python",
   "name": "python",
   "nbconvert_exporter": "python",
   "pygments_lexer": "ipython3",
   "version": "3.13.6"
  }
 },
 "nbformat": 4,
 "nbformat_minor": 5
}
